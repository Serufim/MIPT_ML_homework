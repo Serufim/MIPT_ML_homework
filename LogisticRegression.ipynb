{
  "nbformat": 4,
  "nbformat_minor": 0,
  "metadata": {
    "colab": {
      "name": "Untitled2.ipynb",
      "provenance": []
    },
    "kernelspec": {
      "display_name": "Python 3",
      "name": "python3"
    }
  },
  "cells": [
    {
      "cell_type": "markdown",
      "metadata": {
        "id": "nlDpbWMj5BoQ"
      },
      "source": [
        "Грузим датасеты на коллаб"
      ]
    },
    {
      "cell_type": "code",
      "metadata": {
        "id": "tZALFChB4-On"
      },
      "source": [
        "# Colab library to upload files to notebook\n",
        "from google.colab import files\n",
        "\n",
        "# Install Kaggle library\n",
        "!pip install -q kaggle"
      ],
      "execution_count": 1,
      "outputs": []
    },
    {
      "cell_type": "code",
      "metadata": {
        "colab": {
          "base_uri": "https://localhost:8080/"
        },
        "id": "FW2-HM8N6PHz",
        "outputId": "e1a40d16-c377-4daf-f550-41cbe48b653c"
      },
      "source": [
        "!pip install --upgrade --force-reinstall --no-deps kaggle"
      ],
      "execution_count": 2,
      "outputs": [
        {
          "output_type": "stream",
          "text": [
            "Collecting kaggle\n",
            "\u001b[?25l  Downloading https://files.pythonhosted.org/packages/99/33/365c0d13f07a2a54744d027fe20b60dacdfdfb33bc04746db6ad0b79340b/kaggle-1.5.10.tar.gz (59kB)\n",
            "\r\u001b[K     |█████▌                          | 10kB 17.9MB/s eta 0:00:01\r\u001b[K     |███████████                     | 20kB 19.3MB/s eta 0:00:01\r\u001b[K     |████████████████▋               | 30kB 14.3MB/s eta 0:00:01\r\u001b[K     |██████████████████████▏         | 40kB 13.0MB/s eta 0:00:01\r\u001b[K     |███████████████████████████▊    | 51kB 8.8MB/s eta 0:00:01\r\u001b[K     |████████████████████████████████| 61kB 5.4MB/s \n",
            "\u001b[?25hBuilding wheels for collected packages: kaggle\n",
            "  Building wheel for kaggle (setup.py) ... \u001b[?25l\u001b[?25hdone\n",
            "  Created wheel for kaggle: filename=kaggle-1.5.10-cp36-none-any.whl size=73269 sha256=ea1e5cff300027a2bd89c7a1bb319f90c1c07f923937c9b96da9405ea1ecca52\n",
            "  Stored in directory: /root/.cache/pip/wheels/3a/d1/7e/6ce09b72b770149802c653a02783821629146983ee5a360f10\n",
            "Successfully built kaggle\n",
            "Installing collected packages: kaggle\n",
            "  Found existing installation: kaggle 1.5.10\n",
            "    Uninstalling kaggle-1.5.10:\n",
            "      Successfully uninstalled kaggle-1.5.10\n",
            "Successfully installed kaggle-1.5.10\n"
          ],
          "name": "stdout"
        }
      ]
    },
    {
      "cell_type": "markdown",
      "metadata": {
        "id": "lpj67sL4DIVd"
      },
      "source": [
        "Грузим Kaggle json, чтоб можно было качать датасеты прямо на колаб"
      ]
    },
    {
      "cell_type": "code",
      "metadata": {
        "colab": {
          "resources": {
            "http://localhost:8080/nbextensions/google.colab/files.js": {
              "data": "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",
              "ok": true,
              "headers": [
                [
                  "content-type",
                  "application/javascript"
                ]
              ],
              "status": 200,
              "status_text": ""
            }
          },
          "base_uri": "https://localhost:8080/",
          "height": 72
        },
        "id": "mzJKEXzm5Hpj",
        "outputId": "d7b3c45c-211e-4346-c09e-829b1a19cc3e"
      },
      "source": [
        "uploaded = files.upload()"
      ],
      "execution_count": 3,
      "outputs": [
        {
          "output_type": "display_data",
          "data": {
            "text/html": [
              "\n",
              "     <input type=\"file\" id=\"files-36157134-a4bb-49e3-8f26-7a7f1b394e8e\" name=\"files[]\" multiple disabled\n",
              "        style=\"border:none\" />\n",
              "     <output id=\"result-36157134-a4bb-49e3-8f26-7a7f1b394e8e\">\n",
              "      Upload widget is only available when the cell has been executed in the\n",
              "      current browser session. Please rerun this cell to enable.\n",
              "      </output>\n",
              "      <script src=\"/nbextensions/google.colab/files.js\"></script> "
            ],
            "text/plain": [
              "<IPython.core.display.HTML object>"
            ]
          },
          "metadata": {
            "tags": []
          }
        },
        {
          "output_type": "stream",
          "text": [
            "Saving kaggle.json to kaggle.json\n"
          ],
          "name": "stdout"
        }
      ]
    },
    {
      "cell_type": "code",
      "metadata": {
        "colab": {
          "base_uri": "https://localhost:8080/"
        },
        "id": "J5-vF6mT5PzX",
        "outputId": "1a43f0ad-727a-44c6-d430-8779ee6ca158"
      },
      "source": [
        "!mkdir -p ~/.kaggle\n",
        "!cp kaggle.json ~/.kaggle/\n",
        "!ls ~/.kaggle\n",
        "!chmod 600 /root/.kaggle/kaggle.json"
      ],
      "execution_count": 4,
      "outputs": [
        {
          "output_type": "stream",
          "text": [
            "kaggle.json\n"
          ],
          "name": "stdout"
        }
      ]
    },
    {
      "cell_type": "code",
      "metadata": {
        "colab": {
          "base_uri": "https://localhost:8080/"
        },
        "id": "fCR91D2q5bxO",
        "outputId": "d646b9d3-e060-4a66-9b04-bcbde8e5bec9"
      },
      "source": [
        "!kaggle competitions download -c home-credit-default-risk"
      ],
      "execution_count": 5,
      "outputs": [
        {
          "output_type": "stream",
          "text": [
            "Downloading home-credit-default-risk.zip to /content\n",
            " 99% 680M/688M [00:09<00:00, 79.3MB/s]\n",
            "100% 688M/688M [00:09<00:00, 75.7MB/s]\n"
          ],
          "name": "stdout"
        }
      ]
    },
    {
      "cell_type": "code",
      "metadata": {
        "colab": {
          "base_uri": "https://localhost:8080/"
        },
        "id": "icQORtRN-s1L",
        "outputId": "2ff82871-d169-42da-8624-f41dc7f71d30"
      },
      "source": [
        "!unzip home-credit-default-risk.zip"
      ],
      "execution_count": 6,
      "outputs": [
        {
          "output_type": "stream",
          "text": [
            "Archive:  home-credit-default-risk.zip\n",
            "  inflating: HomeCredit_columns_description.csv  \n",
            "  inflating: POS_CASH_balance.csv    \n",
            "  inflating: application_test.csv    \n",
            "  inflating: application_train.csv   \n",
            "  inflating: bureau.csv              \n",
            "  inflating: bureau_balance.csv      \n",
            "  inflating: credit_card_balance.csv  \n",
            "  inflating: installments_payments.csv  \n",
            "  inflating: previous_application.csv  \n",
            "  inflating: sample_submission.csv   \n"
          ],
          "name": "stdout"
        }
      ]
    },
    {
      "cell_type": "markdown",
      "metadata": {
        "id": "wIDCueQY5yzz"
      },
      "source": [
        "Все! Скачали все датасеты. Нау итс тайм то мейк сам датасайенс\n",
        "\n",
        "Так. Ну тут у нас много документов и таблиц еще и небось со связями в духе 1 к многим. Значит по идее нам нужно как-то по этим данным собирать отдельные фичи (Усреднять или объеденять), Но для начала загрузим основные датасеты"
      ]
    },
    {
      "cell_type": "code",
      "metadata": {
        "id": "0pdFgXEp-QeN"
      },
      "source": [
        "import pandas as pd\n",
        "import matplotlib.pyplot as plt\n",
        "import numpy as np"
      ],
      "execution_count": 35,
      "outputs": []
    },
    {
      "cell_type": "code",
      "metadata": {
        "id": "Rc5nY2NhEZjZ"
      },
      "source": [
        ""
      ],
      "execution_count": null,
      "outputs": []
    },
    {
      "cell_type": "markdown",
      "metadata": {
        "id": "ZikJJWMNyPGZ"
      },
      "source": [
        ""
      ]
    },
    {
      "cell_type": "code",
      "metadata": {
        "id": "5zk7Pf9M7WQx"
      },
      "source": [
        "train = pd.read_csv('application_train.csv')\n",
        "test = pd.read_csv('application_test.csv')\n",
        "bureau = pd.read_csv('bureau.csv')\n",
        "submission = pd.read_csv('sample_submission.csv')\n",
        "bureau_balance = pd.read_csv('bureau_balance.csv')\n",
        "credit_card_balance = pd.read_csv('credit_card_balance.csv')\n",
        "prev_app = pd.read_csv('previous_application.csv')"
      ],
      "execution_count": 68,
      "outputs": []
    },
    {
      "cell_type": "markdown",
      "metadata": {
        "id": "-9CAWIDbftty"
      },
      "source": [
        "Для того чтоб натренировать модель нам нужно как-то предобработать данные из других столбцов и добавить их в основной датафрейм.\n",
        "\n",
        "Но займемся этим немного позже, а пока что попробуем просто по основному документу взять какие-нибудь признаки что бы просто получить какой-нить скор"
      ]
    },
    {
      "cell_type": "code",
      "metadata": {
        "id": "grwzRTvMhyrf"
      },
      "source": [
        "from sklearn import preprocessing\n",
        "from sklearn.linear_model import LogisticRegression\n",
        "from sklearn.model_selection import KFold, train_test_split\n",
        "from sklearn.preprocessing import LabelBinarizer, LabelEncoder,StandardScaler\n",
        "from sklearn.metrics import roc_auc_score, f1_score, precision_score, recall_score\n",
        "import seaborn as sns"
      ],
      "execution_count": 37,
      "outputs": []
    },
    {
      "cell_type": "markdown",
      "metadata": {
        "id": "sojU80O6EPta"
      },
      "source": [
        "В начале посмотрим в каких колонках больше всего нанов и других плохих штук, колонки в которых около половины пустых значений, я дропну потому что логично они мало влияют на данные в целом"
      ]
    },
    {
      "cell_type": "code",
      "metadata": {
        "id": "BGbyr-wdoIaX"
      },
      "source": [
        "rows = train.shape[0]\n",
        "missed_percents = pd.concat([(train.isnull().sum() /rows).sort_values(ascending=False)],axis=1,keys=['percent'])\n",
        "fields_for_droping = missed_percents[missed_percents['percent']>0.5].index.to_list()\n",
        "train = train.drop(fields_for_droping,axis=1)\n",
        "test = test.drop(fields_for_droping,axis=1)"
      ],
      "execution_count": 69,
      "outputs": []
    },
    {
      "cell_type": "code",
      "metadata": {
        "colab": {
          "base_uri": "https://localhost:8080/"
        },
        "id": "xgaSD5WxR-Xa",
        "outputId": "c7d70781-5b51-439b-ce73-7f35695eaf7b"
      },
      "source": [
        "train.shape"
      ],
      "execution_count": 70,
      "outputs": [
        {
          "output_type": "execute_result",
          "data": {
            "text/plain": [
              "(307511, 81)"
            ]
          },
          "metadata": {
            "tags": []
          },
          "execution_count": 70
        }
      ]
    },
    {
      "cell_type": "code",
      "metadata": {
        "colab": {
          "base_uri": "https://localhost:8080/"
        },
        "id": "FfsOBqWD-OwX",
        "outputId": "d6a73d82-26f0-443b-9c5e-d0023ad062c2"
      },
      "source": [
        "print(train.isna().sum().max())"
      ],
      "execution_count": 71,
      "outputs": [
        {
          "output_type": "stream",
          "text": [
            "153020\n"
          ],
          "name": "stdout"
        }
      ]
    },
    {
      "cell_type": "markdown",
      "metadata": {
        "id": "ZoUSZP9CJ1l_"
      },
      "source": [
        "Все остальные nan значения заполним средними значениями"
      ]
    },
    {
      "cell_type": "code",
      "metadata": {
        "colab": {
          "base_uri": "https://localhost:8080/"
        },
        "id": "E87LtmplVtdV",
        "outputId": "44d254fb-bd70-4f56-ef92-1363add69911"
      },
      "source": [
        "# Отдельно разобьем категориальные и численные признаки, чтоб потом прогнать их через labelEncoder\n",
        "number_columns = train.select_dtypes(exclude = [\"object\"]).columns\n",
        "category_columns = train.select_dtypes(include = [\"object\"]).columns\n",
        "print(f\"и того кагеогий у нас {len(number_columns)} а чисел {len(category_columns)}\")"
      ],
      "execution_count": 72,
      "outputs": [
        {
          "output_type": "stream",
          "text": [
            "и того кагеогий у нас 68 а чисел 13\n"
          ],
          "name": "stdout"
        }
      ]
    },
    {
      "cell_type": "code",
      "metadata": {
        "id": "1owQ8AEzaNdw"
      },
      "source": [
        "for i, column in enumerate(category_columns):\n",
        "  median = train[column].value_counts().idxmax()\n",
        "  train[column].fillna(median, inplace=True)\n",
        "  train[column] = LabelEncoder().fit_transform(train[column])\n",
        "for column in number_columns:\n",
        "    train[column].fillna(train[column].median(), inplace=True)"
      ],
      "execution_count": 73,
      "outputs": []
    },
    {
      "cell_type": "code",
      "metadata": {
        "colab": {
          "base_uri": "https://localhost:8080/"
        },
        "id": "9SvKCJNgcx_8",
        "outputId": "326125a4-23c4-4ae4-f816-da091da55af0"
      },
      "source": [
        "# Проверяем, есть ли у нас нулы\n",
        "print(train.isna().sum().max())"
      ],
      "execution_count": 74,
      "outputs": [
        {
          "output_type": "stream",
          "text": [
            "0\n"
          ],
          "name": "stdout"
        }
      ]
    },
    {
      "cell_type": "markdown",
      "metadata": {
        "id": "xsTPt7l3dcpu"
      },
      "source": [
        "Теперь посмотрим что у нас по сбалансированости предсказаний"
      ]
    },
    {
      "cell_type": "code",
      "metadata": {
        "colab": {
          "base_uri": "https://localhost:8080/",
          "height": 279
        },
        "id": "dYN2owbxdin5",
        "outputId": "e525c7e7-2806-42ed-b504-b91789d0f20e"
      },
      "source": [
        "sns.countplot(x='TARGET',data=train,palette='hls')\n",
        "plt.show()"
      ],
      "execution_count": 75,
      "outputs": [
        {
          "output_type": "display_data",
          "data": {
            "image/png": "[encoded data removed]",
            "text/plain": [
              "<Figure size 432x288 with 1 Axes>"
            ]
          },
          "metadata": {
            "tags": [],
            "needs_background": "light"
          }
        }
      ]
    },
    {
      "cell_type": "markdown",
      "metadata": {
        "id": "yE2Ls_s3g1eL"
      },
      "source": [
        "Как и предполагалось оч много ноликов, Яб сразу заюзал SMOTE и на генерил новых еденичек чтоб усреднить,\n",
        "но пока просто давайте без кроссвалидации и пр сразу полезем обучать модель, чтоб получить маленький скор и улучшать его вдальнейшем"
      ]
    },
    {
      "cell_type": "code",
      "metadata": {
        "colab": {
          "base_uri": "https://localhost:8080/"
        },
        "id": "7zS7_VnEeGue",
        "outputId": "388ad261-a1e0-4d32-a217-6f17711fe9a6"
      },
      "source": [
        "# Еще немного подшаманим тест чтоб все сходилось\n",
        "number_columns_test = test.select_dtypes(exclude = [\"object\"]).columns\n",
        "category_columns_test = test.select_dtypes(include = [\"object\"]).columns\n",
        "most_freq_cat_nans_test = []\n",
        "for i, column in enumerate(category_columns_test):\n",
        "  median = test[column].value_counts().idxmax()\n",
        "  test[column].fillna(median, inplace=True)\n",
        "  test[column] = LabelEncoder().fit_transform(test[column])\n",
        "for column in number_columns_test:\n",
        "    test[column].fillna(test[column].median(), inplace=True)\n",
        "\n",
        "# Энкодим категориальный фичи\n",
        "print(test.isna().sum().max()) # checking"
      ],
      "execution_count": 76,
      "outputs": [
        {
          "output_type": "stream",
          "text": [
            "0\n"
          ],
          "name": "stdout"
        }
      ]
    },
    {
      "cell_type": "code",
      "metadata": {
        "id": "2odUexlLUrke"
      },
      "source": [
        "def train_model(data,target):\n",
        "  data = data.dropna()\n",
        "  X = data.loc[:, data.columns != target]\n",
        "  Y = data.loc[:, data.columns == target]\n",
        "  X_train, X_test, Y_train, Y_test = train_test_split(X, Y, random_state=0)\n",
        "  model = LogisticRegression()\n",
        "  model.fit(X_train,Y_train)\n",
        "  predict = model.predict_proba(X_test)\n",
        "  print(f\"roc auc {roc_auc_score(Y_test,predict)}\")\n"
      ],
      "execution_count": 77,
      "outputs": []
    },
    {
      "cell_type": "code",
      "metadata": {
        "colab": {
          "base_uri": "https://localhost:8080/"
        },
        "id": "0yX2PDIMoL6d",
        "outputId": "d04f1c21-5f03-4696-e8a4-cef48d1d2650"
      },
      "source": [
        "target = \"TARGET\"\n",
        "X = train.loc[:, train.columns != target]\n",
        "Y = train.loc[:, train.columns == target]\n",
        "model = LogisticRegression(solver='liblinear', penalty='l2', tol=1e-4, multi_class='ovr', random_state=1)\n",
        "model.fit(X,Y)\n",
        "predict = model.predict_proba(test)[:,1]\n",
        "submission['TARGET'] = predict\n",
        "submission.to_csv('submission.csv', index = None)\n"
      ],
      "execution_count": 79,
      "outputs": [
        {
          "output_type": "stream",
          "text": [
            "/usr/local/lib/python3.6/dist-packages/sklearn/utils/validation.py:760: DataConversionWarning: A column-vector y was passed when a 1d array was expected. Please change the shape of y to (n_samples, ), for example using ravel().\n",
            "  y = column_or_1d(y, warn=True)\n"
          ],
          "name": "stderr"
        }
      ]
    },
    {
      "cell_type": "code",
      "metadata": {
        "colab": {
          "base_uri": "https://localhost:8080/"
        },
        "id": "kU58X9dgrvTO",
        "outputId": "612ab912-8eee-4e2b-d158-8ca1dbc3c828"
      },
      "source": [
        "!kaggle competitions submit -c home-credit-default-risk -f submission.csv -m \"First atempt\""
      ],
      "execution_count": 80,
      "outputs": [
        {
          "output_type": "stream",
          "text": [
            "100% 1.25M/1.25M [00:02<00:00, 482kB/s]\n",
            "Successfully submitted to Home Credit Default Risk"
          ],
          "name": "stdout"
        }
      ]
    },
    {
      "cell_type": "markdown",
      "metadata": {
        "id": "EJtWt1LTsGET"
      },
      "source": [
        "Пока первый результат .62353, что как я понимаю чуть лучше чем просто 0.5"
      ]
    },
    {
      "cell_type": "markdown",
      "metadata": {
        "id": "Y9gdK-qcsWC7"
      },
      "source": [
        "# Часть 2: **Custom features**"
      ]
    },
    {
      "cell_type": "code",
      "metadata": {
        "id": "1hlbcT3cSpF1"
      },
      "source": [
        ""
      ],
      "execution_count": null,
      "outputs": []
    },
    {
      "cell_type": "markdown",
      "metadata": {
        "id": "NuSoLMB4shkd"
      },
      "source": [
        "Добавим еще полезных фичей"
      ]
    },
    {
      "cell_type": "code",
      "metadata": {
        "id": "otV8JG0t0RUa"
      },
      "source": [
        "# идеи для этих фичей любезно подсмотрел у товарищей по группе\n",
        "train['DAYS_EMPLOYED_PERC'] = train['DAYS_EMPLOYED'] / train['DAYS_BIRTH']\n",
        "train['INCOME_CREDIT_PERC'] = train['AMT_INCOME_TOTAL'] / train['AMT_CREDIT']\n",
        "train['INCOME_PER_PERSON'] = train['AMT_INCOME_TOTAL'] / train['CNT_FAM_MEMBERS']\n",
        "\n",
        "test['DAYS_EMPLOYED_PERC'] = test['DAYS_EMPLOYED'] / test['DAYS_BIRTH']\n",
        "test['INCOME_CREDIT_PERC'] = test['AMT_INCOME_TOTAL'] / test['AMT_CREDIT']\n",
        "test['INCOME_PER_PERSON'] = test['AMT_INCOME_TOTAL'] / test['CNT_FAM_MEMBERS']"
      ],
      "execution_count": 81,
      "outputs": []
    },
    {
      "cell_type": "markdown",
      "metadata": {
        "id": "hj6thKk31DQe"
      },
      "source": [
        "добавим датасет по кредитному бюро, усредним фичи и добавим в датасеты"
      ]
    },
    {
      "cell_type": "code",
      "metadata": {
        "id": "B-5Ukbg61OUL"
      },
      "source": [
        "b_cat_features = bureau.select_dtypes(include = [\"object\"]).columns\n",
        "bureau = pd.get_dummies(bureau, columns = b_cat_features, dummy_na = True)\n",
        "# устредняем значения\n",
        "bureau_avg = bureau.groupby('SK_ID_CURR').mean()\n",
        "bureau_avg['buro_count'] = bureau[['SK_ID_BUREAU','SK_ID_CURR']].groupby('SK_ID_CURR').count()['SK_ID_BUREAU']\n",
        "bureau_avg.columns = ['b_' + f_ for f_ in bureau_avg.columns]\n",
        "train = train.merge(right=bureau_avg.reset_index(), how='left', on='SK_ID_CURR')\n",
        "test = test.merge(right=bureau_avg.reset_index(), how='left', on='SK_ID_CURR')"
      ],
      "execution_count": 82,
      "outputs": []
    },
    {
      "cell_type": "code",
      "metadata": {
        "id": "scorF5m610vc"
      },
      "source": [
        "cat_features = prev_app.select_dtypes(include = [\"object\"]).columns\n",
        "prev_app = pd.get_dummies(prev_app, columns = cat_features, dummy_na = True)\n",
        "prev_apps_count = prev_app[['SK_ID_CURR', 'SK_ID_PREV']].groupby('SK_ID_CURR').count()\n",
        "prev_app['SK_ID_PREV'] = prev_app['SK_ID_CURR'].map(prev_apps_count['SK_ID_PREV'])\n",
        "\n",
        "## Average values for all other features in previous applications\n",
        "prev_apps_avg = prev_app.groupby('SK_ID_CURR').mean()\n",
        "prev_apps_avg.columns = ['p_' + col for col in prev_apps_avg.columns]\n",
        "train = train.merge(right=prev_apps_avg.reset_index(), how='left', on='SK_ID_CURR')\n",
        "test = test.merge(right=prev_apps_avg.reset_index(), how='left', on='SK_ID_CURR')"
      ],
      "execution_count": 83,
      "outputs": []
    },
    {
      "cell_type": "markdown",
      "metadata": {
        "id": "fZLqVzpy4zJR"
      },
      "source": [
        "Добавили фичи и снова дропаем полупустые"
      ]
    },
    {
      "cell_type": "code",
      "metadata": {
        "id": "i7Ul8YHA48-B"
      },
      "source": [
        "rows = train.shape[0]\n",
        "missed_percents = pd.concat([(train.isnull().sum() /rows).sort_values(ascending=False)],axis=1,keys=['percent'])\n",
        "fields_for_droping = missed_percents[missed_percents['percent']>0.5].index.to_list()\n",
        "train = train.drop(fields_for_droping,axis=1)\n",
        "test = test.drop(fields_for_droping,axis=1)"
      ],
      "execution_count": 84,
      "outputs": []
    },
    {
      "cell_type": "markdown",
      "metadata": {
        "id": "6QIHSFFR8y0U"
      },
      "source": [
        "убираем наны"
      ]
    },
    {
      "cell_type": "code",
      "metadata": {
        "colab": {
          "base_uri": "https://localhost:8080/"
        },
        "id": "tLH7GSTC9AGN",
        "outputId": "efd9c087-3587-4d97-a9b7-10928056d283"
      },
      "source": [
        "number_columns = train.select_dtypes(exclude = [\"object\"]).columns\n",
        "category_columns = train.select_dtypes(include = [\"object\"]).columns\n",
        "print(f\"и того кагеогий у нас {len(category_columns)} а чисел {len(number_columns)}\")"
      ],
      "execution_count": 85,
      "outputs": [
        {
          "output_type": "stream",
          "text": [
            "и того кагеогий у нас 0 а чисел 300\n"
          ],
          "name": "stdout"
        }
      ]
    },
    {
      "cell_type": "code",
      "metadata": {
        "id": "ALgqpy_49Hfe"
      },
      "source": [
        "for i, column in enumerate(category_columns):\n",
        "  median = train[column].value_counts().idxmax()\n",
        "  train[column].fillna(median, inplace=True)\n",
        "  train[column] = LabelEncoder().fit_transform(train[column])\n",
        "for column in number_columns:\n",
        "    train[column].fillna(train[column].median(), inplace=True)"
      ],
      "execution_count": 86,
      "outputs": []
    },
    {
      "cell_type": "code",
      "metadata": {
        "colab": {
          "base_uri": "https://localhost:8080/"
        },
        "id": "fK_DuRNp81mw",
        "outputId": "65ef0604-7b75-41cb-c686-fc81f1cb3b5a"
      },
      "source": [
        "# Еще немного подшаманим тест чтоб все сходилось\n",
        "number_columns_test = test.select_dtypes(exclude = [\"object\"]).columns\n",
        "category_columns_test = test.select_dtypes(include = [\"object\"]).columns\n",
        "most_freq_cat_nans_test = []\n",
        "for i, column in enumerate(category_columns_test):\n",
        "  median = test[column].value_counts().idxmax()\n",
        "  test[column].fillna(median, inplace=True)\n",
        "  test[column] = LabelEncoder().fit_transform(test[column])\n",
        "for column in number_columns_test:\n",
        "    test[column].fillna(test[column].median(), inplace=True)\n",
        "\n",
        "# Энкодим категориальный фичи\n",
        "print(test.isna().sum().max()) # checking"
      ],
      "execution_count": 87,
      "outputs": [
        {
          "output_type": "stream",
          "text": [
            "0\n"
          ],
          "name": "stdout"
        }
      ]
    },
    {
      "cell_type": "markdown",
      "metadata": {
        "id": "ntxTzKSR-osZ"
      },
      "source": [
        "Обучаем и отправляем на кегл"
      ]
    },
    {
      "cell_type": "code",
      "metadata": {
        "colab": {
          "base_uri": "https://localhost:8080/"
        },
        "id": "1Tp5cMet-9Qh",
        "outputId": "dc55e4a2-b7a6-4f35-dc30-9ec9b6fc73f3"
      },
      "source": [
        "target = \"TARGET\"\n",
        "X = train.loc[:, train.columns != target]\n",
        "Y = train.loc[:, train.columns == target]\n",
        "model = LogisticRegression(solver='liblinear', penalty='l2', tol=1e-4, multi_class='ovr', random_state=1)\n",
        "model.fit(X,Y)\n",
        "predict = model.predict_proba(test)[:,1]\n",
        "submission['TARGET'] = predict\n",
        "submission.to_csv('submission.csv', index = None)"
      ],
      "execution_count": 88,
      "outputs": [
        {
          "output_type": "stream",
          "text": [
            "/usr/local/lib/python3.6/dist-packages/sklearn/utils/validation.py:760: DataConversionWarning: A column-vector y was passed when a 1d array was expected. Please change the shape of y to (n_samples, ), for example using ravel().\n",
            "  y = column_or_1d(y, warn=True)\n",
            "/usr/local/lib/python3.6/dist-packages/sklearn/svm/_base.py:947: ConvergenceWarning: Liblinear failed to converge, increase the number of iterations.\n",
            "  \"the number of iterations.\", ConvergenceWarning)\n"
          ],
          "name": "stderr"
        }
      ]
    },
    {
      "cell_type": "code",
      "metadata": {
        "colab": {
          "base_uri": "https://localhost:8080/"
        },
        "id": "b3Bq4Mw1-n-D",
        "outputId": "18578d03-a13b-4357-c345-6bebdd6b5fdf"
      },
      "source": [
        "!kaggle competitions submit -c home-credit-default-risk -f submission.csv -m \"Add new features, and other\""
      ],
      "execution_count": 89,
      "outputs": [
        {
          "output_type": "stream",
          "text": [
            "100% 1.25M/1.25M [00:01<00:00, 768kB/s]\n",
            "Successfully submitted to Home Credit Default Risk"
          ],
          "name": "stdout"
        }
      ]
    },
    {
      "cell_type": "markdown",
      "metadata": {
        "id": "SiOoLza6TmK0"
      },
      "source": [
        "чот скор упал( 0.60228"
      ]
    },
    {
      "cell_type": "markdown",
      "metadata": {
        "id": "TCuRI-26CG-K"
      },
      "source": [
        "Добавим woe"
      ]
    },
    {
      "cell_type": "code",
      "metadata": {
        "id": "l7QIFm7PCFV2"
      },
      "source": [
        "def iv_woe(data, target, bins=10, show_woe=False):\n",
        "    #Empty Dataframe\n",
        "    newDF, woeDF = pd.DataFrame(), pd.DataFrame()\n",
        "    \n",
        "    #Extract Column Names\n",
        "    cols = data.columns\n",
        "    \n",
        "    #Run WOE and IV on all the independent variables\n",
        "    for ivars in cols[~cols.isin([target])]:\n",
        "        if (data[ivars].dtype.kind in 'bifc') and (len(np.unique(data[ivars]))>10):\n",
        "            binned_x = pd.qcut(data[ivars], bins,  duplicates='drop')\n",
        "            d0 = pd.DataFrame({'x': binned_x, 'y': data[target]})\n",
        "        else:\n",
        "            d0 = pd.DataFrame({'x': data[ivars], 'y': data[target]})\n",
        "            d = d0.groupby(\"x\", as_index=False).agg({\"y\": [\"count\", \"sum\"]})\n",
        "            d.columns = ['Cutoff', 'N', 'Events']\n",
        "            d['% of Events'] = np.maximum(d['Events'], 0.5) / d['Events'].sum()\n",
        "            d['Non-Events'] = d['N'] - d['Events']\n",
        "            d['% of Non-Events'] = np.maximum(d['Non-Events'], 0.5) / d['Non-Events'].sum()\n",
        "            d['WoE'] = np.log(d['% of Events']/d['% of Non-Events'])\n",
        "            d['IV'] = d['WoE'] * (d['% of Events'] - d['% of Non-Events'])\n",
        "            d.insert(loc=0, column='Variable', value=ivars)\n",
        "            print(\"Information value of \" + ivars + \" is \" + str(round(d['IV'].sum(),6)))\n",
        "            temp =pd.DataFrame({\"Variable\" : [ivars], \"IV\" : [d['IV'].sum()]}, columns = [\"Variable\", \"IV\"])\n",
        "            newDF=pd.concat([newDF,temp], axis=0)\n",
        "            woeDF=pd.concat([woeDF,d], axis=0)\n",
        "        \n",
        "    if show_woe == True:\n",
        "        print(d)\n",
        "    \n",
        "    return newDF, woeDF"
      ],
      "execution_count": 90,
      "outputs": []
    },
    {
      "cell_type": "code",
      "metadata": {
        "colab": {
          "base_uri": "https://localhost:8080/"
        },
        "id": "hlukd1UCCQNq",
        "outputId": "3d885172-4794-465d-df8f-5b61e0201aaf"
      },
      "source": [
        "iv, woe = iv_woe(data = train, target = 'TARGET', bins=10, show_woe = True)"
      ],
      "execution_count": 91,
      "outputs": [
        {
          "output_type": "stream",
          "text": [
            "Information value of NAME_CONTRACT_TYPE is 0.015039\n",
            "Information value of CODE_GENDER is 0.038599\n",
            "Information value of FLAG_OWN_CAR is 0.006597\n",
            "Information value of FLAG_OWN_REALTY is 0.000505\n",
            "Information value of NAME_TYPE_SUITE is 0.001402\n",
            "Information value of NAME_INCOME_TYPE is 0.058381\n",
            "Information value of NAME_EDUCATION_TYPE is 0.050836\n",
            "Information value of NAME_FAMILY_STATUS is 0.021711\n",
            "Information value of NAME_HOUSING_TYPE is 0.01573\n",
            "Information value of FLAG_MOBIL is 2.9e-05\n",
            "Information value of FLAG_EMP_PHONE is 0.032907\n",
            "Information value of FLAG_WORK_PHONE is 0.010329\n",
            "Information value of FLAG_CONT_MOBILE is 2e-06\n",
            "Information value of FLAG_PHONE is 0.007942\n",
            "Information value of FLAG_EMAIL is 4.2e-05\n",
            "Information value of REGION_RATING_CLIENT is 0.048317\n",
            "Information value of REGION_RATING_CLIENT_W_CITY is 0.051201\n",
            "Information value of WEEKDAY_APPR_PROCESS_START is 0.000677\n",
            "Information value of REG_REGION_NOT_LIVE_REGION is 0.000393\n",
            "Information value of REG_REGION_NOT_WORK_REGION is 0.000623\n",
            "Information value of LIVE_REGION_NOT_WORK_REGION is 0.000105\n",
            "Information value of REG_CITY_NOT_LIVE_CITY is 0.022299\n",
            "Information value of REG_CITY_NOT_WORK_CITY is 0.032207\n",
            "Information value of LIVE_CITY_NOT_WORK_CITY is 0.013228\n",
            "Information value of EMERGENCYSTATE_MODE is 0.000291\n",
            "Information value of DEF_30_CNT_SOCIAL_CIRCLE is 0.013312\n",
            "Information value of DEF_60_CNT_SOCIAL_CIRCLE is 0.012207\n",
            "Information value of FLAG_DOCUMENT_2 is 0.00021\n",
            "Information value of FLAG_DOCUMENT_3 is 0.028579\n",
            "Information value of FLAG_DOCUMENT_4 is 0.000101\n",
            "Information value of FLAG_DOCUMENT_5 is 1e-06\n",
            "Information value of FLAG_DOCUMENT_6 is 0.012824\n",
            "Information value of FLAG_DOCUMENT_7 is 3.8e-05\n",
            "Information value of FLAG_DOCUMENT_8 is 0.000906\n",
            "Information value of FLAG_DOCUMENT_9 is 0.000288\n",
            "Information value of FLAG_DOCUMENT_10 is 1e-06\n",
            "Information value of FLAG_DOCUMENT_11 is 0.000271\n",
            "Information value of FLAG_DOCUMENT_12 is 1.4e-05\n",
            "Information value of FLAG_DOCUMENT_13 is 0.002846\n",
            "Information value of FLAG_DOCUMENT_14 is 0.001767\n",
            "Information value of FLAG_DOCUMENT_15 is 0.000883\n",
            "Information value of FLAG_DOCUMENT_16 is 0.00226\n",
            "Information value of FLAG_DOCUMENT_17 is 0.000254\n",
            "Information value of FLAG_DOCUMENT_18 is 0.000996\n",
            "Information value of FLAG_DOCUMENT_19 is 2.7e-05\n",
            "Information value of FLAG_DOCUMENT_20 is 1e-06\n",
            "Information value of FLAG_DOCUMENT_21 is 0.000145\n",
            "Information value of AMT_REQ_CREDIT_BUREAU_HOUR is 5.5e-05\n",
            "Information value of AMT_REQ_CREDIT_BUREAU_DAY is 0.000322\n",
            "Information value of AMT_REQ_CREDIT_BUREAU_WEEK is 0.000145\n",
            "Information value of b_CREDIT_ACTIVE_nan is 0.0\n",
            "Information value of b_CREDIT_CURRENCY_currency 4 is 0.000135\n",
            "Information value of b_CREDIT_CURRENCY_nan is 0.0\n",
            "Information value of b_CREDIT_TYPE_Interbank credit is 2.9e-05\n",
            "Information value of b_CREDIT_TYPE_Loan for purchase of shares (margin lending) is 7.1e-05\n",
            "Information value of b_CREDIT_TYPE_Mobile operator loan is 2.9e-05\n",
            "Information value of b_CREDIT_TYPE_nan is 0.0\n",
            "Information value of p_NAME_CONTRACT_TYPE_nan is 0.0\n",
            "Information value of p_WEEKDAY_APPR_PROCESS_START_nan is 0.0\n",
            "Information value of p_FLAG_LAST_APPL_PER_CONTRACT_nan is 0.0\n",
            "Information value of p_NAME_CASH_LOAN_PURPOSE_Refusal to name the goal is 0.000267\n",
            "Information value of p_NAME_CASH_LOAN_PURPOSE_nan is 0.0\n",
            "Information value of p_NAME_CONTRACT_STATUS_nan is 0.0\n",
            "Information value of p_NAME_PAYMENT_TYPE_nan is 0.0\n",
            "Information value of p_CODE_REJECT_REASON_nan is 0.0\n",
            "Information value of p_NAME_CLIENT_TYPE_nan is 0.0\n",
            "Information value of p_NAME_GOODS_CATEGORY_Animals is 2.9e-05\n",
            "Information value of p_NAME_GOODS_CATEGORY_House Construction is 0.0\n",
            "Information value of p_NAME_GOODS_CATEGORY_nan is 0.0\n",
            "Information value of p_NAME_PORTFOLIO_nan is 0.0\n",
            "Information value of p_NAME_PRODUCT_TYPE_nan is 0.0\n",
            "Information value of p_CHANNEL_TYPE_nan is 0.0\n",
            "Information value of p_NAME_SELLER_INDUSTRY_nan is 0.0\n",
            "Information value of p_NAME_YIELD_GROUP_nan is 0.0\n",
            "                 Variable  Cutoff       N  ...  % of Non-Events  WoE   IV\n",
            "0  p_NAME_YIELD_GROUP_nan     0.0  307511  ...              1.0  0.0  0.0\n",
            "\n",
            "[1 rows x 9 columns]\n"
          ],
          "name": "stdout"
        }
      ]
    },
    {
      "cell_type": "code",
      "metadata": {
        "id": "yCihowc6CcsH"
      },
      "source": [
        "unreliable_f = iv.loc[iv['IV'] < 0.01]\n",
        "\n",
        "train = train.drop(unreliable_f['Variable'], axis=1)\n",
        "test = test.drop(unreliable_f['Variable'], axis=1)"
      ],
      "execution_count": 92,
      "outputs": []
    },
    {
      "cell_type": "code",
      "metadata": {
        "id": "dc9Dbn2nCkQH"
      },
      "source": [
        "#train = train.drop(['TARGET'], axis=1)\n",
        "#train = train.drop(['SK_ID_CURR'], axis=1)"
      ],
      "execution_count": 49,
      "outputs": []
    },
    {
      "cell_type": "code",
      "metadata": {
        "colab": {
          "base_uri": "https://localhost:8080/"
        },
        "id": "g-LxZTECConv",
        "outputId": "c8d87a9b-e2e8-45cc-c51f-6722f88b7a27"
      },
      "source": [
        "train.shape, test.shape"
      ],
      "execution_count": 56,
      "outputs": [
        {
          "output_type": "execute_result",
          "data": {
            "text/plain": [
              "((307511, 236), (48744, 235))"
            ]
          },
          "metadata": {
            "tags": []
          },
          "execution_count": 56
        }
      ]
    },
    {
      "cell_type": "code",
      "metadata": {
        "colab": {
          "base_uri": "https://localhost:8080/"
        },
        "id": "M2GTI745GprN",
        "outputId": "9a09fe51-435e-46cd-fb1b-d9e0bb97076f"
      },
      "source": [
        "print(set(train.columns)-set(test.columns))\n",
        "y = train['TARGET']\n",
        "train = train.drop(['TARGET'], axis=1)\n"
      ],
      "execution_count": 93,
      "outputs": [
        {
          "output_type": "stream",
          "text": [
            "{'TARGET'}\n"
          ],
          "name": "stdout"
        }
      ]
    },
    {
      "cell_type": "code",
      "metadata": {
        "id": "ePjP_gnHGN3l"
      },
      "source": [
        "scaler = StandardScaler()\n",
        "train_scaled = scaler.fit_transform(train) # считаем значения\n",
        "test_scaled = scaler.transform(test) # используем"
      ],
      "execution_count": 94,
      "outputs": []
    },
    {
      "cell_type": "code",
      "metadata": {
        "colab": {
          "base_uri": "https://localhost:8080/"
        },
        "id": "Rr6ZSireHM9k",
        "outputId": "e21795f9-a003-46dd-d574-14e16f555cb6"
      },
      "source": [
        "logreg = LogisticRegression(solver='liblinear', penalty='l2', tol=1e-4, multi_class='ovr', random_state=1)\n",
        "X_train, X_test, y_train, y_test = train_test_split(train_scaled, y, test_size = 0.3, random_state = 200)\n",
        "print(\"X Training shape\", X_train.shape)\n",
        "print(\"X Testing shape\", X_test.shape)\n",
        "print(\"Y Training shape\", y_train.shape)\n",
        "print(\"Y Testing shape\", y_test.shape)\n",
        "logreg.fit(X_train, y_train)\n",
        "y_pred_p = logreg.predict_proba(X_test)[:,1]\n",
        "\n",
        "print(\"ROC\",  roc_auc_score(y_test, y_pred_p))"
      ],
      "execution_count": 95,
      "outputs": [
        {
          "output_type": "stream",
          "text": [
            "X Training shape (215257, 242)\n",
            "X Testing shape (92254, 242)\n",
            "Y Training shape (215257,)\n",
            "Y Testing shape (92254,)\n",
            "ROC 0.7567499497125728\n"
          ],
          "name": "stdout"
        }
      ]
    },
    {
      "cell_type": "code",
      "metadata": {
        "colab": {
          "base_uri": "https://localhost:8080/"
        },
        "id": "IzQt4YAQDN_r",
        "outputId": "d9797ca2-1ca1-46ce-d4cc-13510fea2f4a"
      },
      "source": [
        "model = LogisticRegression(solver='liblinear', penalty='l2', tol=1e-4, multi_class='ovr', random_state=1)\n",
        "model.fit(train,y)\n",
        "predict = model.predict_proba(test)[:,1]\n",
        "submission['TARGET'] = predict\n",
        "submission.to_csv('submission.csv', index = None)"
      ],
      "execution_count": 96,
      "outputs": [
        {
          "output_type": "stream",
          "text": [
            "/usr/local/lib/python3.6/dist-packages/sklearn/svm/_base.py:947: ConvergenceWarning: Liblinear failed to converge, increase the number of iterations.\n",
            "  \"the number of iterations.\", ConvergenceWarning)\n"
          ],
          "name": "stderr"
        }
      ]
    },
    {
      "cell_type": "code",
      "metadata": {
        "colab": {
          "base_uri": "https://localhost:8080/"
        },
        "id": "B1AT11hjF4I7",
        "outputId": "ce77abbb-e77a-427c-f447-ccf617a0358c"
      },
      "source": [
        "!kaggle competitions submit -c home-credit-default-risk -f submission.csv -m \"Please need more score\""
      ],
      "execution_count": 97,
      "outputs": [
        {
          "output_type": "stream",
          "text": [
            "100% 1.25M/1.25M [00:02<00:00, 507kB/s]\n",
            "Successfully submitted to Home Credit Default Risk"
          ],
          "name": "stdout"
        }
      ]
    },
    {
      "cell_type": "markdown",
      "metadata": {
        "id": "ay9GaMTkU1hn"
      },
      "source": [
        "Только хуже и хуже( непонятно почему"
      ]
    },
    {
      "cell_type": "markdown",
      "metadata": {
        "id": "-ifXYR8UCF4e"
      },
      "source": [
        ""
      ]
    }
  ]
}