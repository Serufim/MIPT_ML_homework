{
  "nbformat": 4,
  "nbformat_minor": 0,
  "metadata": {
    "colab": {
      "name": "Untitled1.ipynb",
      "provenance": []
    },
    "kernelspec": {
      "name": "python3",
      "display_name": "Python 3"
    }
  },
  "cells": [
    {
      "cell_type": "markdown",
      "metadata": {
        "id": "i5lTbpUr59JD"
      },
      "source": [
        "##Подготовительные расчеты"
      ]
    },
    {
      "cell_type": "code",
      "metadata": {
        "id": "Zp-wWkLU3I8K"
      },
      "source": [
        "# Colab library to upload files to notebook\n",
        "from google.colab import files\n",
        "\n",
        "# Install Kaggle library\n",
        "!pip install -q kaggle"
      ],
      "execution_count": 6,
      "outputs": []
    },
    {
      "cell_type": "code",
      "metadata": {
        "colab": {
          "resources": {
            "http://localhost:8080/nbextensions/google.colab/files.js": {
              "data": "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",
              "ok": true,
              "headers": [
                [
                  "content-type",
                  "application/javascript"
                ]
              ],
              "status": 200,
              "status_text": ""
            }
          },
          "base_uri": "https://localhost:8080/",
          "height": 72
        },
        "id": "93sSiAyj3fX6",
        "outputId": "74b10139-6871-461e-8657-97037e003921"
      },
      "source": [
        "uploaded = files.upload()"
      ],
      "execution_count": 7,
      "outputs": [
        {
          "output_type": "display_data",
          "data": {
            "text/html": [
              "\n",
              "     <input type=\"file\" id=\"files-f849d66e-ca05-4ddc-a9b5-84a3cfb91496\" name=\"files[]\" multiple disabled\n",
              "        style=\"border:none\" />\n",
              "     <output id=\"result-f849d66e-ca05-4ddc-a9b5-84a3cfb91496\">\n",
              "      Upload widget is only available when the cell has been executed in the\n",
              "      current browser session. Please rerun this cell to enable.\n",
              "      </output>\n",
              "      <script src=\"/nbextensions/google.colab/files.js\"></script> "
            ],
            "text/plain": [
              "<IPython.core.display.HTML object>"
            ]
          },
          "metadata": {
            "tags": []
          }
        },
        {
          "output_type": "stream",
          "text": [
            "Saving kaggle.json to kaggle.json\n"
          ],
          "name": "stdout"
        }
      ]
    },
    {
      "cell_type": "code",
      "metadata": {
        "colab": {
          "base_uri": "https://localhost:8080/"
        },
        "id": "qUExCGz95vEu",
        "outputId": "dea94c35-498f-4028-b8b5-864673e9e7b5"
      },
      "source": [
        "!mkdir -p ~/.kaggle\n",
        "!cp kaggle.json ~/.kaggle/\n",
        "!ls ~/.kaggle\n",
        "!chmod 600 /root/.kaggle/kaggle.json"
      ],
      "execution_count": 8,
      "outputs": [
        {
          "output_type": "stream",
          "text": [
            "kaggle.json\n"
          ],
          "name": "stdout"
        }
      ]
    },
    {
      "cell_type": "code",
      "metadata": {
        "colab": {
          "base_uri": "https://localhost:8080/"
        },
        "id": "5XC2bGUe4kIZ",
        "outputId": "9e347d61-88c9-490f-ce35-bd3774ed071c"
      },
      "source": [
        "!kaggle competitions download -c house-prices-advanced-regression-techniques"
      ],
      "execution_count": 9,
      "outputs": [
        {
          "output_type": "stream",
          "text": [
            "Warning: Looks like you're using an outdated API Version, please consider updating (server 1.5.10 / client 1.5.4)\n",
            "Downloading test.csv to /content\n",
            "  0% 0.00/441k [00:00<?, ?B/s]\n",
            "100% 441k/441k [00:00<00:00, 66.3MB/s]\n",
            "Downloading sample_submission.csv to /content\n",
            "  0% 0.00/31.2k [00:00<?, ?B/s]\n",
            "100% 31.2k/31.2k [00:00<00:00, 32.5MB/s]\n",
            "Downloading data_description.txt to /content\n",
            "  0% 0.00/13.1k [00:00<?, ?B/s]\n",
            "100% 13.1k/13.1k [00:00<00:00, 13.6MB/s]\n",
            "Downloading train.csv to /content\n",
            "  0% 0.00/450k [00:00<?, ?B/s]\n",
            "100% 450k/450k [00:00<00:00, 61.8MB/s]\n"
          ],
          "name": "stdout"
        }
      ]
    },
    {
      "cell_type": "markdown",
      "metadata": {
        "id": "ZuUMYjzo6Tr6"
      },
      "source": [
        "##Теперь можно заняться наукой\n",
        "Сначала проведем все иморты"
      ]
    },
    {
      "cell_type": "code",
      "metadata": {
        "id": "srzubenn4_zd"
      },
      "source": [
        "import pandas as pd\n",
        "import matplotlib.pyplot as plt\n",
        "import numpy as np"
      ],
      "execution_count": 150,
      "outputs": []
    },
    {
      "cell_type": "markdown",
      "metadata": {
        "id": "Pyqhx81F6jwB"
      },
      "source": [
        "Читаем датасеты"
      ]
    },
    {
      "cell_type": "code",
      "metadata": {
        "id": "XzP-I7WD6igd"
      },
      "source": [
        "train = pd.read_csv(\"train.csv\")\n",
        "test = pd.read_csv(\"test.csv\")\n",
        "sample_submission = pd.read_csv(\"sample_submission.csv\")"
      ],
      "execution_count": 151,
      "outputs": []
    },
    {
      "cell_type": "markdown",
      "metadata": {
        "id": "xprN-nqT7GrQ"
      },
      "source": [
        "Для начала очень простая но не эффективная регрессия\n",
        "\n",
        "Возьмем из всего набора данных поле о площади и только по ней будем регрессировать"
      ]
    },
    {
      "cell_type": "code",
      "metadata": {
        "id": "76yfKU-B67mm"
      },
      "source": [
        "from sklearn.linear_model import LinearRegression, SGDRegressor, Lasso, Ridge\n",
        "from sklearn.metrics import mean_squared_log_error, mean_squared_error, mean_absolute_error"
      ],
      "execution_count": 152,
      "outputs": []
    },
    {
      "cell_type": "code",
      "metadata": {
        "colab": {
          "base_uri": "https://localhost:8080/"
        },
        "id": "G2b03XVF7sn5",
        "outputId": "1e50958e-5697-43f5-a619-655fff6ed576"
      },
      "source": [
        "def dump_regression(X_train,X_test,y_train,y_test,model):\n",
        "  func_model = model\n",
        "  model.fit(X_train,y_train)\n",
        "  predict = model.predict(X_test)\n",
        "  rmse = np.sqrt(mean_squared_log_error(predict,y_test))\n",
        "  mse = mean_squared_error(predict,y_test)\n",
        "  mae = mean_absolute_error(predict,y_test)\n",
        "  print(f\"rmse: {rmse}\")\n",
        "  print(f\"mse: {mse}\")\n",
        "  print(f\"mae: {mae}\")\n",
        "\n",
        "X_train = train.loc[:,['LotArea']][:-200]\n",
        "X_test = train.loc[:,['LotArea']][-200:]\n",
        "# Split the targets into training/testing sets\n",
        "y_train = train.loc[:,['SalePrice']][:-200]\n",
        "y_test = train.loc[:,['SalePrice']][-200:]\n",
        "dump_regression(X_train,X_test,y_train,y_test,LinearRegression())"
      ],
      "execution_count": 153,
      "outputs": [
        {
          "output_type": "stream",
          "text": [
            "rmse: 0.38320675459542114\n",
            "mse: 4896727686.412853\n",
            "mae: 54139.23363951724\n"
          ],
          "name": "stdout"
        }
      ]
    },
    {
      "cell_type": "markdown",
      "metadata": {
        "id": "8DJZZjr27F2J"
      },
      "source": [
        "Ну что тут можно сказать: Только площадь дома плохо подходит, давайте тогда добавим переменных наверн\n",
        "\n",
        "\n",
        "Попробуем добавить год постройки"
      ]
    },
    {
      "cell_type": "code",
      "metadata": {
        "colab": {
          "base_uri": "https://localhost:8080/"
        },
        "id": "qal43pEnDtCP",
        "outputId": "8a26cba0-8a03-4f73-9ec4-e38d4db27957"
      },
      "source": [
        "X_train = train.loc[:,['LotArea','YearBuilt']][:-200]\n",
        "X_test = train.loc[:,['LotArea','YearBuilt']][-200:]\n",
        "# Split the targets into training/testing sets\n",
        "y_train = train.loc[:,['SalePrice','YearBuilt']][:-200]\n",
        "y_test = train.loc[:,['SalePrice','YearBuilt']][-200:]\n",
        "dump_regression(X_train,X_test,y_train,y_test,LinearRegression())"
      ],
      "execution_count": 154,
      "outputs": [
        {
          "output_type": "stream",
          "text": [
            "rmse: 0.24142497915969335\n",
            "mse: 1828338446.628779\n",
            "mae: 22508.7438759623\n"
          ],
          "name": "stdout"
        }
      ]
    },
    {
      "cell_type": "markdown",
      "metadata": {
        "id": "9yD5Ccx0Ewp7"
      },
      "source": [
        "Стало лучше, но давайте еще добавим прежде чем будем менять наш подход"
      ]
    },
    {
      "cell_type": "code",
      "metadata": {
        "colab": {
          "base_uri": "https://localhost:8080/"
        },
        "id": "sJL2_03UEsk9",
        "outputId": "0b4e6b0b-6f6a-4000-e276-ac0cb84eb5f9"
      },
      "source": [
        "# У кроватей может быть null поэтому заполним все null 0\n",
        "used_params =['LotArea','YearBuilt','GrLivArea']\n",
        "\n",
        "X_train = train.loc[:,used_params][:-200]\n",
        "X_test = train.loc[:,used_params][-200:]\n",
        "# Split the targets into training/testing sets\n",
        "y_train = train.loc[:,used_params][:-200]\n",
        "y_test = train.loc[:,used_params][-200:]\n",
        "dump_regression(X_train,X_test,y_train,y_test,LinearRegression())"
      ],
      "execution_count": 155,
      "outputs": [
        {
          "output_type": "stream",
          "text": [
            "rmse: 1.840694865512545e-15\n",
            "mse: 1.0373103375356389e-23\n",
            "mae: 1.258134337452551e-12\n"
          ],
          "name": "stdout"
        }
      ]
    },
    {
      "cell_type": "markdown",
      "metadata": {
        "id": "3-siX1DJIIer"
      },
      "source": [
        "Так и не понял хорошо это или нет, но вродь стало лучше. Тогда давайте упакуем и отправим посылку"
      ]
    },
    {
      "cell_type": "code",
      "metadata": {
        "id": "_MH62a6_FZnk"
      },
      "source": [
        "model = LinearRegression()\n",
        "model.fit(train[used_params], train['SalePrice'])\n",
        "\n",
        "prediction = model.predict(test[used_params])\n",
        "sample_submission.head()\n",
        "sample_submission['SalePrice']=  prediction\n",
        "sample_submission.to_csv('submission.csv', index = None)"
      ],
      "execution_count": 156,
      "outputs": []
    },
    {
      "cell_type": "code",
      "metadata": {
        "colab": {
          "base_uri": "https://localhost:8080/"
        },
        "id": "K69m40yYJTYT",
        "outputId": "0bf73f8a-f313-4b58-a3b4-f55ced95a6d3"
      },
      "source": [
        "!kaggle competitions submit -c house-prices-advanced-regression-techniques -f submission.csv -m \"Dump solution\""
      ],
      "execution_count": 17,
      "outputs": [
        {
          "output_type": "stream",
          "text": [
            "Warning: Looks like you're using an outdated API Version, please consider updating (server 1.5.10 / client 1.5.4)\n",
            "100% 33.6k/33.6k [00:01<00:00, 17.5kB/s]\n",
            "Successfully submitted to House Prices: Advanced Regression Techniques"
          ],
          "name": "stdout"
        }
      ]
    },
    {
      "cell_type": "markdown",
      "metadata": {
        "id": "aCkc1OcEKGfx"
      },
      "source": [
        "Итоговый Скор у нас 0.23864 Я думаю это не плохо, но можно-ли лучше?\n",
        "## Давайте поменяем линейную модель?"
      ]
    },
    {
      "cell_type": "code",
      "metadata": {
        "colab": {
          "base_uri": "https://localhost:8080/"
        },
        "id": "NO6cEtzaIoHH",
        "outputId": "7769e593-ec96-4b75-b3cc-c342d65e800e"
      },
      "source": [
        "model = SGDRegressor()\n",
        "model.fit(train[used_params], train['SalePrice'])\n",
        "\n",
        "prediction = model.predict(test[used_params])\n",
        "sample_submission.head()\n",
        "sample_submission['SalePrice']=  prediction\n",
        "sample_submission.to_csv('submission.csv', index = None)\n",
        "!kaggle competitions submit -c house-prices-advanced-regression-techniques -f submission.csv -m \"Dump solution\""
      ],
      "execution_count": 157,
      "outputs": [
        {
          "output_type": "stream",
          "text": [
            "Warning: Looks like you're using an outdated API Version, please consider updating (server 1.5.10 / client 1.5.4)\n",
            "100% 39.5k/39.5k [00:02<00:00, 17.8kB/s]\n",
            "Successfully submitted to House Prices: Advanced Regression Techniques"
          ],
          "name": "stdout"
        }
      ]
    },
    {
      "cell_type": "markdown",
      "metadata": {
        "id": "5ISj_PdCLP3i"
      },
      "source": [
        "Все стало гораздо хуже((( 12.02373 непонятно что произошло вообще. В общем перед тем как посылать посмотрим на своей выборке"
      ]
    },
    {
      "cell_type": "code",
      "metadata": {
        "id": "jwqZvekeKxgL"
      },
      "source": [
        "model = Lasso()"
      ],
      "execution_count": 18,
      "outputs": []
    },
    {
      "cell_type": "code",
      "metadata": {
        "colab": {
          "base_uri": "https://localhost:8080/"
        },
        "id": "zxkSg5vkLnwh",
        "outputId": "288c16a1-9044-48c7-d336-28b17a8bab24"
      },
      "source": [
        "# У кроватей может быть null поэтому заполним все null 0\n",
        "used_params =['LotArea','YearBuilt','GrLivArea']\n",
        "\n",
        "X_train = train.loc[:,used_params][:-200]\n",
        "X_test = train.loc[:,used_params][-200:]\n",
        "# Split the targets into training/testing sets\n",
        "y_train = train.loc[:,used_params][:-200]\n",
        "y_test = train.loc[:,used_params][-200:]\n",
        "models = [Lasso(),Ridge(),LinearRegression()]\n",
        "## Цирк с конями\n",
        "for model in models:\n",
        "  print(model)\n",
        "  dump_regression(X_train,X_test,y_train,y_test,model)\n",
        "  print()"
      ],
      "execution_count": 158,
      "outputs": [
        {
          "output_type": "stream",
          "text": [
            "Lasso(alpha=1.0, copy_X=True, fit_intercept=True, max_iter=1000,\n",
            "      normalize=False, positive=False, precompute=False, random_state=None,\n",
            "      selection='cyclic', tol=0.0001, warm_start=False)\n",
            "rmse: 1.1067918435832765e-05\n",
            "mse: 0.0004615485930182334\n",
            "mae: 0.010606002721621053\n",
            "\n",
            "Ridge(alpha=1.0, copy_X=True, fit_intercept=True, max_iter=None,\n",
            "      normalize=False, random_state=None, solver='auto', tol=0.001)\n",
            "rmse: 8.979826716512994e-09\n",
            "mse: 3.0365310149720015e-10\n",
            "mae: 8.53603307177764e-06\n",
            "\n",
            "LinearRegression(copy_X=True, fit_intercept=True, n_jobs=None, normalize=False)\n",
            "rmse: 1.840694865512545e-15\n",
            "mse: 1.0373103375356389e-23\n",
            "mae: 1.258134337452551e-12\n",
            "\n"
          ],
          "name": "stdout"
        }
      ]
    },
    {
      "cell_type": "markdown",
      "metadata": {
        "id": "l7WytmOuOflv"
      },
      "source": [
        "Пока лучше всех обычная линейная регрессия, Но я подозреваю, что на самом деле там просто очень большое переобучение, ну и метрики у меня и в реальной жизни очень сильно различаются.\n",
        "\n",
        "\n",
        "\n",
        "Кажется пора воспользоваться кросс валидацией"
      ]
    },
    {
      "cell_type": "code",
      "metadata": {
        "id": "L8shiMrTPfcM"
      },
      "source": [
        "# Необходимые импорты\n",
        "from sklearn.model_selection import KFold"
      ],
      "execution_count": 159,
      "outputs": []
    },
    {
      "cell_type": "code",
      "metadata": {
        "colab": {
          "base_uri": "https://localhost:8080/"
        },
        "id": "wj8PIc8HOemP",
        "outputId": "76f87ed4-582d-46c6-de00-9732684dac5f"
      },
      "source": [
        "def cv_regression(params,train,model,target='SalePrice'):\n",
        "  kf = KFold(n_splits=8)\n",
        "  rmse_list = []\n",
        "  mse_list = []\n",
        "  mae_list = []\n",
        "  for i, (train_index, test_index) in enumerate(kf.split(train)):\n",
        "    \n",
        "    X_train, X_test = train.loc[train_index, params], train.loc[test_index, params]\n",
        "    y_train, y_test = train.loc[train_index, target], train.loc[test_index, target]\n",
        "\n",
        "    model.fit(X_train, y_train)\n",
        "    predict = model.predict(X_test)\n",
        "    \n",
        "    rmse_list.append(np.sqrt(mean_squared_log_error(predict,y_test)))\n",
        "    mse_list.append(mean_squared_error(predict,y_test))\n",
        "    mae_list.append(mean_absolute_error(predict,y_test))\n",
        "    \n",
        "  print(\"Mean rmse for 8-fold: {}\".format(str(np.mean(rmse_list))))\n",
        "  print(\"std rmse for 8-fold: {}\".format(str(np.std(rmse_list))))\n",
        "  print(\"Mean mse for 8-fold: {}\".format(str(np.mean(mse_list))))\n",
        "  print(\"std mse for 8-fold: {}\".format(str(np.std(mse_list))))\n",
        "  print(\"Mean mae for 8-fold: {}\".format(str(np.mean(mae_list))))\n",
        "  print(\"std mae for 8-fold: {}\".format(str(np.std(mae_list))))\n",
        "\n",
        "used_params =['LotArea','YearBuilt','GrLivArea']\n",
        "\n",
        "for model in models:\n",
        "  print(model)\n",
        "  cv_regression(used_params,train,model)\n",
        "  print()"
      ],
      "execution_count": 160,
      "outputs": [
        {
          "output_type": "stream",
          "text": [
            "Lasso(alpha=1.0, copy_X=True, fit_intercept=True, max_iter=1000,\n",
            "      normalize=False, positive=False, precompute=False, random_state=None,\n",
            "      selection='cyclic', tol=0.0001, warm_start=False)\n",
            "Mean rmse for 8-fold: 0.22646882110643723\n",
            "std rmse for 8-fold: 0.014241796693895163\n",
            "Mean mse for 8-fold: 2186453699.1012664\n",
            "std mse for 8-fold: 486570731.0612697\n",
            "Mean mae for 8-fold: 30361.030717636935\n",
            "std mae for 8-fold: 2013.7162360011077\n",
            "\n",
            "Ridge(alpha=1.0, copy_X=True, fit_intercept=True, max_iter=None,\n",
            "      normalize=False, random_state=None, solver='auto', tol=0.001)\n",
            "Mean rmse for 8-fold: 0.22646883429196257\n",
            "std rmse for 8-fold: 0.014241802386711903\n",
            "Mean mse for 8-fold: 2186453693.1539106\n",
            "std mse for 8-fold: 486570738.9318498\n",
            "Mean mae for 8-fold: 30361.031501375535\n",
            "std mae for 8-fold: 2013.7162049983401\n",
            "\n",
            "LinearRegression(copy_X=True, fit_intercept=True, n_jobs=None, normalize=False)\n",
            "Mean rmse for 8-fold: 0.22646888885476107\n",
            "std rmse for 8-fold: 0.014241824064942404\n",
            "Mean mse for 8-fold: 2186453698.12363\n",
            "std mse for 8-fold: 486570672.754811\n",
            "Mean mae for 8-fold: 30361.034842027108\n",
            "std mae for 8-fold: 2013.7161455508387\n",
            "\n"
          ],
          "name": "stdout"
        }
      ]
    },
    {
      "cell_type": "markdown",
      "metadata": {
        "id": "o0oJYJwCQy4K"
      },
      "source": [
        "Держу в курсе, что теперь оценка по rmse уже очень близка к той которую дает кегл. Но нам нужен скор получше, Плюс в задании нужно поработать с аутлайерами и регуляризировать данные. Давайте этим и займемся"
      ]
    },
    {
      "cell_type": "code",
      "metadata": {
        "colab": {
          "base_uri": "https://localhost:8080/"
        },
        "id": "8TLxwgjsP-pL",
        "outputId": "bee8821c-cdd0-487b-e0d0-ab24f111c0a3"
      },
      "source": [
        "# Возьмем переменную качества забора\n",
        "print(set(train['Fence']))\n",
        "# Как мы видем там категориальный признак с nan ну и это то что нам надо. \n",
        "# Вообще я подозреваю что данная метрика будет негативно влиять на качество предсказания ибо есть оч дорогие дома без забора как и дешевые дома с крутым забором\n",
        "from sklearn.preprocessing import LabelEncoder\n",
        "train['Fence']=train['Fence'].fillna(\"NO\")\n",
        "train['FenceLabel'] = LabelEncoder().fit_transform(train['Fence'])"
      ],
      "execution_count": 161,
      "outputs": [
        {
          "output_type": "stream",
          "text": [
            "{nan, 'MnPrv', 'GdWo', 'MnWw', 'GdPrv'}\n"
          ],
          "name": "stdout"
        }
      ]
    },
    {
      "cell_type": "code",
      "metadata": {
        "colab": {
          "base_uri": "https://localhost:8080/"
        },
        "id": "43ENmKasSiUA",
        "outputId": "790bcb68-fe86-45b6-a05d-636426d3f2ed"
      },
      "source": [
        "used_params =['LotArea','YearBuilt','GrLivArea','FenceLabel']\n",
        "\n",
        "for model in models:\n",
        "  print(model)\n",
        "  cv_regression(used_params,train,model)\n",
        "  print()"
      ],
      "execution_count": 162,
      "outputs": [
        {
          "output_type": "stream",
          "text": [
            "Lasso(alpha=1.0, copy_X=True, fit_intercept=True, max_iter=1000,\n",
            "      normalize=False, positive=False, precompute=False, random_state=None,\n",
            "      selection='cyclic', tol=0.0001, warm_start=False)\n",
            "Mean rmse for 8-fold: 0.22617735897223534\n",
            "std rmse for 8-fold: 0.013739913755669037\n",
            "Mean mse for 8-fold: 2186540054.9768124\n",
            "std mse for 8-fold: 487712416.9215897\n",
            "Mean mae for 8-fold: 30369.619240176296\n",
            "std mae for 8-fold: 2027.225272819109\n",
            "\n",
            "Ridge(alpha=1.0, copy_X=True, fit_intercept=True, max_iter=None,\n",
            "      normalize=False, random_state=None, solver='auto', tol=0.001)\n",
            "Mean rmse for 8-fold: 0.2261772404982233\n",
            "std rmse for 8-fold: 0.013740012872615288\n",
            "Mean mse for 8-fold: 2186538710.9738293\n",
            "std mse for 8-fold: 487713918.9252845\n",
            "Mean mae for 8-fold: 30369.60692544043\n",
            "std mae for 8-fold: 2027.2459641195019\n",
            "\n",
            "LinearRegression(copy_X=True, fit_intercept=True, n_jobs=None, normalize=False)\n",
            "Mean rmse for 8-fold: 0.22617723511436952\n",
            "std rmse for 8-fold: 0.013739669826956537\n",
            "Mean mse for 8-fold: 2186539846.1519504\n",
            "std mse for 8-fold: 487714808.7085503\n",
            "Mean mae for 8-fold: 30369.636650355278\n",
            "std mae for 8-fold: 2027.258432118803\n",
            "\n"
          ],
          "name": "stdout"
        }
      ]
    },
    {
      "cell_type": "markdown",
      "metadata": {
        "id": "_JLn3TpCVaO9"
      },
      "source": [
        "Так, ну не очень сильно поменялось на самом деле, но зато поборолись с аутлайерами и закодировали категориальные признаки.\n",
        "\n",
        "Теперь давайте нормализуем данные"
      ]
    },
    {
      "cell_type": "code",
      "metadata": {
        "id": "m_aUDoSJHWDZ"
      },
      "source": [
        "from sklearn.preprocessing import MinMaxScaler"
      ],
      "execution_count": 163,
      "outputs": []
    },
    {
      "cell_type": "code",
      "metadata": {
        "colab": {
          "base_uri": "https://localhost:8080/"
        },
        "id": "ooK89kg4VUca",
        "outputId": "0f353e32-889b-4741-aed8-c60ac05ae39d"
      },
      "source": [
        "#train['SalePrice'] = np.log1p(train['SalePrice'])\n",
        "#X_real_norm_np = MinMaxScaler().fit_transform(X_dum)\n",
        "train['SalePriceLog'] = np.log1p(train['SalePrice'])\n",
        "train['LotAreaLog'] = np.log1p(train['LotArea'])\n",
        "test['LotAreaLog'] = np.log1p(test['LotArea'])\n",
        "\n",
        "train['YearBuiltLog'] = np.log1p(train['YearBuilt'])\n",
        "test['YearBuiltLog'] = np.log1p(test['YearBuilt'])\n",
        "\n",
        "train['GarageAreaNorm'] = np.log1p(train['GarageArea'])\n",
        "test['GarageAreaNorm'] = np.log1p(test['GarageArea'])\n",
        "\n",
        "train['YearRemodAddLog'] = np.log1p(train['YearRemodAdd'])\n",
        "test['YearRemodAddLog'] = np.log1p(test['YearRemodAdd'])\n",
        "\n",
        "train['GarageCarsNorm'] = np.log1p(train['GarageCars'])\n",
        "test['GarageCarsNorm'] = np.log1p(test['GarageCars'])\n",
        "\n",
        "train['GrLivAreaNorm'] = np.log1p(train['GrLivArea'])\n",
        "test['GrLivAreaNorm'] = np.log1p(test['GrLivArea'])\n",
        "\n",
        "used_params = ['LotAreaLog','YearBuiltLog','YearRemodAddLog','GarageCarsNorm','OverallCond','GrLivAreaNorm','GarageAreaNorm']\n",
        "\n",
        "for model in models:\n",
        "  print(model)\n",
        "  cv_regression(used_params, train, model,'SalePriceLog')\n",
        "  print()"
      ],
      "execution_count": 164,
      "outputs": [
        {
          "output_type": "stream",
          "text": [
            "Lasso(alpha=1.0, copy_X=True, fit_intercept=True, max_iter=1000,\n",
            "      normalize=False, positive=False, precompute=False, random_state=None,\n",
            "      selection='cyclic', tol=0.0001, warm_start=False)\n",
            "Mean rmse for 8-fold: 0.03059906101603346\n",
            "std rmse for 8-fold: 0.002011657059774497\n",
            "Mean mse for 8-fold: 0.15957346645257242\n",
            "std mse for 8-fold: 0.02012220555217734\n",
            "Mean mae for 8-fold: 0.309839092997492\n",
            "std mae for 8-fold: 0.02290976924582491\n",
            "\n",
            "Ridge(alpha=1.0, copy_X=True, fit_intercept=True, max_iter=None,\n",
            "      normalize=False, random_state=None, solver='auto', tol=0.001)\n",
            "Mean rmse for 8-fold: 0.01622768316404316\n",
            "std rmse for 8-fold: 0.001257969429716852\n",
            "Mean mse for 8-fold: 0.04484315360406674\n",
            "std mse for 8-fold: 0.006488766078740093\n",
            "Mean mae for 8-fold: 0.1562666576282143\n",
            "std mae for 8-fold: 0.008403326234886557\n",
            "\n",
            "LinearRegression(copy_X=True, fit_intercept=True, n_jobs=None, normalize=False)\n",
            "Mean rmse for 8-fold: 0.013543471062673403\n",
            "std rmse for 8-fold: 0.0010081231784701296\n",
            "Mean mse for 8-fold: 0.03147279253996666\n",
            "std mse for 8-fold: 0.004680706710101167\n",
            "Mean mae for 8-fold: 0.12928132872183895\n",
            "std mae for 8-fold: 0.006745185114271113\n",
            "\n"
          ],
          "name": "stdout"
        }
      ]
    },
    {
      "cell_type": "markdown",
      "metadata": {
        "id": "HfwNzESLVZjX"
      },
      "source": [
        "Усредним значения всех трех моделей и опубликуем резульатты на кегл"
      ]
    },
    {
      "cell_type": "code",
      "metadata": {
        "colab": {
          "base_uri": "https://localhost:8080/"
        },
        "id": "zxE9LXFmVw8y",
        "outputId": "24901b04-8e8d-4190-ca09-77634f69d000"
      },
      "source": [
        "np.any(np.isnan(test[used_params]))"
      ],
      "execution_count": 168,
      "outputs": [
        {
          "output_type": "execute_result",
          "data": {
            "text/plain": [
              "True"
            ]
          },
          "metadata": {
            "tags": []
          },
          "execution_count": 168
        }
      ]
    },
    {
      "cell_type": "code",
      "metadata": {
        "id": "AwTBesihSxWd"
      },
      "source": [
        "test[used_params] = test[used_params].fillna(0)\n",
        "\n",
        "for i,model in enumerate(models[1:]):\n",
        "  model.fit(train[used_params], train['SalePriceLog'])\n",
        "  prediction = model.predict(test[used_params])\n",
        "  sample_submission.head()\n",
        "  sample_submission['SalePrice']=  np.exp(prediction)-1\n",
        "  sample_submission.to_csv(f'submission{i}.csv', index = None)"
      ],
      "execution_count": 181,
      "outputs": []
    },
    {
      "cell_type": "code",
      "metadata": {
        "id": "M0wjNoSrUc8u"
      },
      "source": [
        "sub1 = pd.read_csv('submission0.csv')\n",
        "sub2 = pd.read_csv('submission1.csv')\n",
        "sub3 = pd.read_csv('submission2.csv')\n",
        "result = pd.concat([sub1, sub2, sub3], axis=0).dropna(axis=1).groupby('Id').mean()\n",
        "result.to_csv(f'submission.csv')"
      ],
      "execution_count": 182,
      "outputs": []
    },
    {
      "cell_type": "code",
      "metadata": {
        "colab": {
          "base_uri": "https://localhost:8080/"
        },
        "id": "bcSoObZ8doHQ",
        "outputId": "b6c0ed25-20b7-4032-b237-f3d3ff5070fd"
      },
      "source": [
        "!kaggle competitions submit -c house-prices-advanced-regression-techniques -f submission.csv -m \"merget predicion\""
      ],
      "execution_count": 183,
      "outputs": [
        {
          "output_type": "stream",
          "text": [
            "Warning: Looks like you're using an outdated API Version, please consider updating (server 1.5.10 / client 1.5.4)\n",
            "100% 33.7k/33.7k [00:01<00:00, 28.3kB/s]\n",
            "Successfully submitted to House Prices: Advanced Regression Techniques"
          ],
          "name": "stdout"
        }
      ]
    },
    {
      "cell_type": "markdown",
      "metadata": {
        "id": "vvZ_68wQe3pu"
      },
      "source": [
        "Итоговый скор стал меньше чем просто использовать Linearregression но лучше не использовать Lasso незнаю почему так вышло(("
      ]
    },
    {
      "cell_type": "code",
      "metadata": {
        "id": "zDpYXYbOd9uR"
      },
      "source": [
        ""
      ],
      "execution_count": null,
      "outputs": []
    }
  ]
}